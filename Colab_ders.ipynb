{
  "nbformat": 4,
  "nbformat_minor": 0,
  "metadata": {
    "colab": {
      "provenance": [],
      "authorship_tag": "ABX9TyMHK3L2hUrxAIy57FcfB9fM",
      "include_colab_link": true
    },
    "kernelspec": {
      "name": "python3",
      "display_name": "Python 3"
    },
    "language_info": {
      "name": "python"
    }
  },
  "cells": [
    {
      "cell_type": "markdown",
      "metadata": {
        "id": "view-in-github",
        "colab_type": "text"
      },
      "source": [
        "<a href=\"https://colab.research.google.com/github/ArtilleryTrigger/50JavascriptProjects/blob/main/Colab_ders.ipynb\" target=\"_parent\"><img src=\"https://colab.research.google.com/assets/colab-badge.svg\" alt=\"Open In Colab\"/></a>"
      ]
    },
    {
      "cell_type": "code",
      "execution_count": 2,
      "metadata": {
        "colab": {
          "base_uri": "https://localhost:8080/"
        },
        "id": "3rFmoDBRh0NP",
        "outputId": "5301fa71-22be-4b3c-d7c9-80f6cb82ceb8"
      },
      "outputs": [
        {
          "output_type": "stream",
          "name": "stdout",
          "text": [
            "merhaba\n"
          ]
        }
      ],
      "source": [
        "print(\"merhaba\")"
      ]
    },
    {
      "cell_type": "code",
      "source": [],
      "metadata": {
        "id": "OvEBWaA8i8Il"
      },
      "execution_count": null,
      "outputs": []
    },
    {
      "cell_type": "markdown",
      "source": [
        "Bu bir açıklama"
      ],
      "metadata": {
        "id": "da6vyibTjuXp"
      }
    },
    {
      "cell_type": "code",
      "source": [
        "print(\"merhaba\")"
      ],
      "metadata": {
        "colab": {
          "base_uri": "https://localhost:8080/"
        },
        "id": "-ehgYb1uHmPc",
        "outputId": "87fb2f42-941a-4eb4-f30a-67ceb8d7b89a"
      },
      "execution_count": 1,
      "outputs": [
        {
          "output_type": "stream",
          "name": "stdout",
          "text": [
            "merhaba\n"
          ]
        }
      ]
    },
    {
      "cell_type": "code",
      "source": [
        "print('Hello World!')"
      ],
      "metadata": {
        "colab": {
          "base_uri": "https://localhost:8080/"
        },
        "id": "ZH4eBFS9Sa-M",
        "outputId": "54afebde-963f-4b2b-8979-8c6047e9958e"
      },
      "execution_count": 2,
      "outputs": [
        {
          "output_type": "stream",
          "name": "stdout",
          "text": [
            "Hello World!\n"
          ]
        }
      ]
    },
    {
      "cell_type": "code",
      "source": [
        "print('bugün günlerden \"Çarşamba\" günüdür.')"
      ],
      "metadata": {
        "colab": {
          "base_uri": "https://localhost:8080/"
        },
        "id": "Yd2785SKYIC5",
        "outputId": "a91ebad3-2310-4e9d-b958-47d5f510ab47"
      },
      "execution_count": 3,
      "outputs": [
        {
          "output_type": "stream",
          "name": "stdout",
          "text": [
            "bugün günlerden \"Çarşamba\" günüdür.\n"
          ]
        }
      ]
    },
    {
      "cell_type": "code",
      "source": [
        "print('bugün günlerden \"Çarşamba\" günüdür.')"
      ],
      "metadata": {
        "colab": {
          "base_uri": "https://localhost:8080/"
        },
        "id": "3YjQDGvIYSX2",
        "outputId": "351cdf57-b84b-456a-eb92-48cfc48b00b9"
      },
      "execution_count": 4,
      "outputs": [
        {
          "output_type": "stream",
          "name": "stdout",
          "text": [
            "bugün günlerden \"Çarşamba\" günüdür.\n"
          ]
        }
      ]
    },
    {
      "cell_type": "code",
      "source": [
        "print('''I'm a \"Python\" developer. ''')"
      ],
      "metadata": {
        "colab": {
          "base_uri": "https://localhost:8080/"
        },
        "id": "gBXssGjlYTgG",
        "outputId": "d5399232-8727-415b-cc82-49602e3fe9c3"
      },
      "execution_count": 5,
      "outputs": [
        {
          "output_type": "stream",
          "name": "stdout",
          "text": [
            "I'm a \"Python\" developer. \n"
          ]
        }
      ]
    },
    {
      "cell_type": "code",
      "source": [
        "print('''\n",
        "I'm a\n",
        "Python\n",
        "developer\n",
        "''')"
      ],
      "metadata": {
        "colab": {
          "base_uri": "https://localhost:8080/"
        },
        "id": "4yFPRsFXY4l9",
        "outputId": "a6620d16-7f91-43f0-bc25-110ed857751b"
      },
      "execution_count": 7,
      "outputs": [
        {
          "output_type": "stream",
          "name": "stdout",
          "text": [
            "\n",
            "I'm a\n",
            "Python\n",
            "developer\n",
            "\n"
          ]
        }
      ]
    },
    {
      "cell_type": "code",
      "source": [
        "print('3.14')\n",
        "print(3.14)"
      ],
      "metadata": {
        "colab": {
          "base_uri": "https://localhost:8080/"
        },
        "id": "W5uF8WO-ZqCG",
        "outputId": "a6b9a4ca-0cad-4605-9b48-22e962d4fedc"
      },
      "execution_count": 9,
      "outputs": [
        {
          "output_type": "stream",
          "name": "stdout",
          "text": [
            "3.14\n",
            "3.14\n"
          ]
        }
      ]
    },
    {
      "cell_type": "code",
      "source": [
        "print(type('3.14'))\n",
        "print(type(3.14))"
      ],
      "metadata": {
        "colab": {
          "base_uri": "https://localhost:8080/"
        },
        "id": "xRGTkD66apYm",
        "outputId": "b8a87a15-63f7-4291-c905-208123277073"
      },
      "execution_count": 10,
      "outputs": [
        {
          "output_type": "stream",
          "name": "stdout",
          "text": [
            "<class 'str'>\n",
            "<class 'float'>\n"
          ]
        }
      ]
    },
    {
      "cell_type": "code",
      "source": [
        "print('First Line')\n",
        "print() # boş satır\n",
        "print('') # boş satır\n",
        "print('''''') # boş satır\n",
        "print(\"Third Line\")"
      ],
      "metadata": {
        "colab": {
          "base_uri": "https://localhost:8080/"
        },
        "id": "xRiiQ_FVa686",
        "outputId": "a7955f6b-0a46-4e02-b707-f674655b8e31"
      },
      "execution_count": 18,
      "outputs": [
        {
          "output_type": "stream",
          "name": "stdout",
          "text": [
            "First Line\n",
            "\n",
            "\n",
            "\n",
            "Third Line\n"
          ]
        }
      ]
    },
    {
      "cell_type": "code",
      "source": [
        "print(\"Escape\\\"Char\\\"acters\")"
      ],
      "metadata": {
        "colab": {
          "base_uri": "https://localhost:8080/"
        },
        "id": "U8KNx7R9gmJs",
        "outputId": "65e4422a-bf99-494e-c28f-48d94f1db320"
      },
      "execution_count": 20,
      "outputs": [
        {
          "output_type": "stream",
          "name": "stdout",
          "text": [
            "Escape\"Char\"acters\n"
          ]
        }
      ]
    },
    {
      "cell_type": "code",
      "source": [
        "print('Escape\\'Char\\'acters')"
      ],
      "metadata": {
        "colab": {
          "base_uri": "https://localhost:8080/"
        },
        "id": "yQdftWSyi2hE",
        "outputId": "83a4d956-1c6e-4ab1-a265-d19009d934f6"
      },
      "execution_count": 21,
      "outputs": [
        {
          "output_type": "stream",
          "name": "stdout",
          "text": [
            "Escape'Char'acters\n"
          ]
        }
      ]
    },
    {
      "cell_type": "code",
      "source": [
        "print(\"Escape\\tCharacters\")"
      ],
      "metadata": {
        "colab": {
          "base_uri": "https://localhost:8080/"
        },
        "id": "XGeztmntjDhG",
        "outputId": "f922af2d-b3c7-49aa-bdaf-fec843a40ca7"
      },
      "execution_count": 22,
      "outputs": [
        {
          "output_type": "stream",
          "name": "stdout",
          "text": [
            "Escape\tCharacters\n"
          ]
        }
      ]
    },
    {
      "cell_type": "code",
      "source": [
        "print(\"Escape\\nCharacters\") # newline"
      ],
      "metadata": {
        "colab": {
          "base_uri": "https://localhost:8080/"
        },
        "id": "E_wRK9pBjNGo",
        "outputId": "f8c81be0-d5b6-4839-f579-319c5b0a3fbd"
      },
      "execution_count": 23,
      "outputs": [
        {
          "output_type": "stream",
          "name": "stdout",
          "text": [
            "Escape\n",
            "Characters\n"
          ]
        }
      ]
    },
    {
      "cell_type": "code",
      "source": [
        "print(\"Escape\\t\\t\\tCharacters\") # tab"
      ],
      "metadata": {
        "colab": {
          "base_uri": "https://localhost:8080/"
        },
        "id": "fxQkGEyyjXYM",
        "outputId": "617c44ae-f44f-4e0f-eceb-13e66263271a"
      },
      "execution_count": 24,
      "outputs": [
        {
          "output_type": "stream",
          "name": "stdout",
          "text": [
            "Escape\t\t\tCharacters\n"
          ]
        }
      ]
    },
    {
      "cell_type": "code",
      "source": [
        "print('C:\\\\new folder')"
      ],
      "metadata": {
        "colab": {
          "base_uri": "https://localhost:8080/"
        },
        "id": "M2sb7rGfkAXQ",
        "outputId": "e520e7c2-02b8-4c1d-e654-bcdcd4a59d8b"
      },
      "execution_count": 25,
      "outputs": [
        {
          "output_type": "stream",
          "name": "stdout",
          "text": [
            "C:\\new folder\n"
          ]
        }
      ]
    },
    {
      "cell_type": "code",
      "source": [
        "# kodun bittiği yere 79 . karakteri aşmasın diye \\ koymalıyız\n",
        "print('Being a good \\\n",
        "person')"
      ],
      "metadata": {
        "colab": {
          "base_uri": "https://localhost:8080/"
        },
        "id": "-1ZbOfiflAjC",
        "outputId": "4f4ddd72-47e5-4b6b-8028-2db2588964ca"
      },
      "execution_count": 27,
      "outputs": [
        {
          "output_type": "stream",
          "name": "stdout",
          "text": [
            "Being a good person\n"
          ]
        }
      ]
    },
    {
      "cell_type": "code",
      "source": [
        "# yorum satırı için Pep 8 kuralı için 72 karakteri geçme"
      ],
      "metadata": {
        "id": "JJMieXrRnfLR"
      },
      "execution_count": 28,
      "outputs": []
    },
    {
      "cell_type": "code",
      "source": [
        "# spam(meat[1], {milk: 2}) doğru yazım\n",
        "# df[0,] or foo = (2,),\n",
        "# if y == 3: print x, y; x, x,\n",
        "# print('peace')\n",
        "# x = 3"
      ],
      "metadata": {
        "id": "h8BIKmCdn-hB"
      },
      "execution_count": 32,
      "outputs": []
    },
    {
      "cell_type": "code",
      "source": [],
      "metadata": {
        "id": "Pk6rR5u1ohU5"
      },
      "execution_count": null,
      "outputs": []
    }
  ]
}